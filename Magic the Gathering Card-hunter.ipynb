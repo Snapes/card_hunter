{
 "cells": [
  {
   "cell_type": "markdown",
   "metadata": {},
   "source": [
    "# Imports"
   ]
  },
  {
   "cell_type": "code",
   "execution_count": 5,
   "metadata": {},
   "outputs": [],
   "source": [
    "import ipywidgets as widgets\n",
    "import numpy as np\n",
    "from IPython.display import display\n",
    "import requests\n",
    "import urllib.request\n",
    "import json\n",
    "import pandas as pd\n",
    "import numpy as np\n",
    "pd.set_option('display.max_columns', None)\n",
    "pd.set_option('display.max_rows', None)\n",
    "from bs4 import BeautifulSoup\n",
    "from abc import ABC, abstractmethod\n",
    "import aiohttp\n",
    "import asyncio\n",
    "from aiohttp import ClientSession\n",
    "\n"
   ]
  },
  {
   "source": [
    "class Parser(ABC):\n",
    "\n",
    "    is_json = False\n",
    "\n",
    "    @abstractmethod\n",
    "    def get_price(self, response_text, card_name):\n",
    "        pass\n",
    "\n",
    "class HobbymasterParser(Parser):\n",
    "    name = 'Hobbymaster'\n",
    "    url = 'https://hobbymaster.co.nz/cards/get-cards?foil=0&lang=&game=1&_search=true&sidx=set&sord=desc&name='\n",
    "    is_json = True\n",
    "\n",
    "    def get_price(self, response_text, card_name):\n",
    "        data = response_text\n",
    "        price_list = []\n",
    "        if 'rows' in data:\n",
    "            for item in data['rows']:\n",
    "                if card_name.lower() in item['cell'][0].lower():\n",
    "                    if item['cell'][12] == 0:\n",
    "                        continue\n",
    "                    else:\n",
    "                        price = item['cell'][10]\n",
    "                        price = float(price.replace('$', '').replace('!', ''))\n",
    "                        price_list.append(price)\n",
    "            if len(price_list) == 0:\n",
    "                price = np.nan\n",
    "            else:\n",
    "                price = min(price_list)\n",
    "        else:\n",
    "            price = np.nan\n",
    "        return price\n",
    "\n",
    "class BaydragonParser(Parser):\n",
    "    name = 'Baydragon'\n",
    "    url = 'https://www.baydragon.co.nz/search/category/01?searchType=single&searchString='\n",
    "\n",
    "    def get_price(self, response_text, card_name):\n",
    "        soup = BeautifulSoup(response_text)\n",
    "        div = soup.find('div', attrs={'class': 'tcgSingles'})\n",
    "        table = div.find('table')\n",
    "        tds = table.find_all('td')\n",
    "        n = 0\n",
    "        price_list = []\n",
    "        for td in tds:\n",
    "            n += 1\n",
    "            if n > len(tds):\n",
    "                break\n",
    "            if 'NZ$' in td.text:\n",
    "                if card_name in tds[n-6].text:\n",
    "                    if int(tds[n].text) > 0:\n",
    "                        price = float(td.text.replace('NZ$', ''))\n",
    "                        price_list.append(price)\n",
    "        if len(price_list) == 0:\n",
    "            price = np.nan\n",
    "        else:\n",
    "            price = min(price_list)\n",
    "        return price\n",
    "\n",
    "class GoblinGamesParser(Parser):\n",
    "    name = 'Goblin Games'\n",
    "    url = 'https://goblingames.nz/search?q='\n",
    "\n",
    "    def get_price(self, response_text, card_name):\n",
    "        soup = BeautifulSoup(response_text)\n",
    "        products = soup.find_all('div', attrs={'class': 'productCard__lower'})\n",
    "        price_list = []\n",
    "        for product in products:\n",
    "            p_list = product.find_all('ul')\n",
    "            for item in p_list:\n",
    "                instock = item.find_all('li')\n",
    "                if len(instock):\n",
    "                    for i in instock:\n",
    "                        title = i.attrs['data-producttitle']\n",
    "                        price = int(i.attrs['data-price']) / 100\n",
    "                    if card_name.lower() in title.lower():\n",
    "                        price_list.append(price)\n",
    "        if len(price_list) == 0:\n",
    "            price = np.nan\n",
    "        else:\n",
    "            price = min(price_list)\n",
    "        return price\n",
    "\n",
    "class ShopifyParser(Parser):\n",
    "    def __init__(self, url, name):\n",
    "        self.url = url\n",
    "        self.name = name\n",
    "    def get_price(self, response_text, card_name):\n",
    "    #     soup = BeautifulSoup(html_content, \"lxml\")\n",
    "        soup = BeautifulSoup(response_text)\n",
    "        products = soup.find_all('div', attrs={'class': 'product Norm'})\n",
    "        price_list = []\n",
    "        for product in products:\n",
    "            title = product.find('p', attrs='productTitle').text.replace('\\n', ' ').strip()\n",
    "            price = product.find('p', attrs='productPrice').text.replace('\\n', ' ').strip()\n",
    "            if card_name.lower() in title.lower():\n",
    "                if price == 'Varies':\n",
    "                    prices = product.parent.find('div', attrs={'class': 'buyWrapper'}).find_all('p')\n",
    "                    for p in prices:\n",
    "                        try:\n",
    "                            price = float(p.text.split('$')[1])\n",
    "                        except:\n",
    "                            continue\n",
    "                        price_list.append(price)\n",
    "                elif '$' in price:\n",
    "                    try:\n",
    "                        price = float(price.replace('$', ''))\n",
    "                    except:\n",
    "                        continue\n",
    "                    price_list.append(price)\n",
    "                else:\n",
    "                    if price != 'Sold Out':\n",
    "                        price_list.append(price)\n",
    "        if len(price_list) == 0:\n",
    "            price = np.nan\n",
    "        else:\n",
    "            price = min(price_list)\n",
    "\n",
    "        return price\n",
    "\n",
    "\n",
    "\n",
    "class CardSearcher():\n",
    "    df_data = []\n",
    "    cards = []\n",
    "    def __init__(self, parsers):\n",
    "        self.parsers = parsers\n",
    "\n",
    "    async def run_search(self, cards):\n",
    "        self.cards + cards\n",
    "        await card_searcher.find_cards(cards)\n",
    "        return display_prices\n",
    "\n",
    "    async def get_prices(self, card):\n",
    "        prices = [card]\n",
    "        async with aiohttp.ClientSession() as session:\n",
    "            for parser in self.parsers:\n",
    "                async with session.get(parser.url + card) as resp:\n",
    "                    response = await resp.json() if parser.is_json else await resp.text()\n",
    "                    prices.append(parser.get_price(response, card))\n",
    "        return prices\n",
    "                    \n",
    "    async def find_cards(self, cards):\n",
    "        for card in cards:\n",
    "            price = await self.get_prices(card)\n",
    "            self.df_data.append(price)\n",
    "\n",
    "    def display_prices(self):\n",
    "        # global results_df\n",
    "        headers = [\"Card\"] + list(parser.name for parser in self.parsers)\n",
    "        results_df = pd.DataFrame(self.df_data, columns =headers)\n",
    "        return results_df\n",
    "        "
   ],
   "cell_type": "code",
   "metadata": {},
   "execution_count": 52,
   "outputs": []
  },
  {
   "cell_type": "code",
   "execution_count": 58,
   "metadata": {
    "scrolled": false
   },
   "outputs": [
    {
     "output_type": "display_data",
     "data": {
      "text/plain": "Textarea(value='', placeholder='Enter a cards on new lines', rows=5)",
      "application/vnd.jupyter.widget-view+json": {
       "version_major": 2,
       "version_minor": 0,
       "model_id": "312f29385bc0431489aa9f6448883006"
      }
     },
     "metadata": {}
    },
    {
     "output_type": "display_data",
     "data": {
      "text/plain": "Button(description='Find prices', style=ButtonStyle())",
      "application/vnd.jupyter.widget-view+json": {
       "version_major": 2,
       "version_minor": 0,
       "model_id": "36cb45ae4e864e7e9230ab92ed7fb8ad"
      }
     },
     "metadata": {}
    }
   ],
   "source": [
    "parsers = [\n",
    "    # HobbymasterParser(),\n",
    "    BaydragonParser(),\n",
    "    GoblinGamesParser(),\n",
    "    ShopifyParser('https://spellboundgames.co.nz/search?q=', 'Spellbound'),\n",
    "    ShopifyParser('https://magicatwillis.co.nz/search?q=', 'Magic at Willis'),\n",
    "    ShopifyParser('https://ironknightgaming.co.nz/search?q=', 'Iron Knight Gaming'),\n",
    "    ShopifyParser('https://mtgmagpie.com/search?q=', 'Magic Magpie')\n",
    "]\n",
    "        \n",
    "def highlight_min(data, color='green'):\n",
    "    '''\n",
    "    highlight the maximum in a Series or DataFrame\n",
    "    '''\n",
    "    attr = 'background-color: {}'.format(color)\n",
    "    if data.ndim == 1:  # Series from .apply(axis=0) or axis=1\n",
    "        is_min = data == data.min()\n",
    "        return [attr if v else '' for v in is_min]\n",
    "    else:  # from .apply(axis=None)\n",
    "        is_min = data == data.min().min()\n",
    "        return pd.DataFrame(np.where(is_min, attr, ''),\n",
    "                            index=data.index, columns=data.columns)\n",
    "\n",
    "def start_card_search(button):\n",
    "    cards = card_input.value.split('\\n')\n",
    "    card_searcher = CardSearcher(parsers)\n",
    "    out = widgets.Output()\n",
    "    with out:\n",
    "        display(card_searcher.run_search(cards))\n",
    "    # # with results_output:\n",
    "    # #     display(widgets.HTML(f\"Total cost: <b>NZ${sum(total_value)}</b> {cards_not_found}\"))\n",
    "    # with table_output:\n",
    "    #     display(results_df.style.apply(highlight_min, axis=1, subset=list(parser.name for parser in card_searcher.parsers)))\n",
    "\n",
    "card_input = widgets.Textarea(placeholder='Enter a cards on new lines', rows=5)\n",
    "go_button = widgets.Button(description='Find prices', button_style='')\n",
    "results_output = widgets.Output()\n",
    "table_output = widgets.Output()\n",
    "display(card_input, go_button)\n",
    "cards = card_input.value.split('\\n')\n",
    "go_button.on_click(start_card_search)"
   ]
  },
  {
   "cell_type": "code",
   "execution_count": 48,
   "metadata": {},
   "outputs": [
    {
     "output_type": "execute_result",
     "data": {
      "text/plain": [
       "                Card  Baydragon  Goblin Games  Spellbound  Magic at Willis  \\\n",
       "0    Prismari Campus        NaN           NaN         NaN              NaN   \n",
       "1     Dimir Aqueduct       0.57           0.5         NaN              NaN   \n",
       "2  Crosis's Catacomb        NaN           2.0         NaN              NaN   \n",
       "\n",
       "   Iron Knight Gaming  Magic Magpie  \n",
       "0                 NaN           NaN  \n",
       "1                 0.4          0.50  \n",
       "2                 2.8          1.75  "
      ],
      "text/html": "<div>\n<style scoped>\n    .dataframe tbody tr th:only-of-type {\n        vertical-align: middle;\n    }\n\n    .dataframe tbody tr th {\n        vertical-align: top;\n    }\n\n    .dataframe thead th {\n        text-align: right;\n    }\n</style>\n<table border=\"1\" class=\"dataframe\">\n  <thead>\n    <tr style=\"text-align: right;\">\n      <th></th>\n      <th>Card</th>\n      <th>Baydragon</th>\n      <th>Goblin Games</th>\n      <th>Spellbound</th>\n      <th>Magic at Willis</th>\n      <th>Iron Knight Gaming</th>\n      <th>Magic Magpie</th>\n    </tr>\n  </thead>\n  <tbody>\n    <tr>\n      <th>0</th>\n      <td>Prismari Campus</td>\n      <td>NaN</td>\n      <td>NaN</td>\n      <td>NaN</td>\n      <td>NaN</td>\n      <td>NaN</td>\n      <td>NaN</td>\n    </tr>\n    <tr>\n      <th>1</th>\n      <td>Dimir Aqueduct</td>\n      <td>0.57</td>\n      <td>0.5</td>\n      <td>NaN</td>\n      <td>NaN</td>\n      <td>0.4</td>\n      <td>0.50</td>\n    </tr>\n    <tr>\n      <th>2</th>\n      <td>Crosis's Catacomb</td>\n      <td>NaN</td>\n      <td>2.0</td>\n      <td>NaN</td>\n      <td>NaN</td>\n      <td>2.8</td>\n      <td>1.75</td>\n    </tr>\n  </tbody>\n</table>\n</div>"
     },
     "metadata": {},
     "execution_count": 48
    }
   ],
   "source": [
    "\n",
    "\n",
    "# global results_df\n",
    "# chunks = [prices[x:x+len(parsers)] for x in range(0, len(cards), len(parsers))]\n",
    "# headers = list(p.name for p in parsers)\n",
    "# results_df = pd.DataFrame(chunks, columns =headers)\n",
    "# results_df['Card'] = cards\n",
    "# results_df\n",
    "    "
   ]
  },
  {
   "cell_type": "code",
   "execution_count": null,
   "metadata": {},
   "outputs": [],
   "source": [
    "cards = '''the ozolith\n",
    "'''\n"
   ]
  },
  {
   "cell_type": "code",
   "execution_count": null,
   "metadata": {},
   "outputs": [],
   "source": [
    "\n",
    "results_df"
   ]
  },
  {
   "cell_type": "code",
   "execution_count": null,
   "metadata": {},
   "outputs": [],
   "source": []
  },
  {
   "cell_type": "code",
   "execution_count": null,
   "metadata": {},
   "outputs": [],
   "source": []
  },
  {
   "cell_type": "code",
   "execution_count": null,
   "metadata": {},
   "outputs": [],
   "source": [
    "\n"
   ]
  },
  {
   "cell_type": "code",
   "execution_count": null,
   "metadata": {},
   "outputs": [],
   "source": [
    "df"
   ]
  }
 ],
 "metadata": {
  "kernelspec": {
   "name": "python3",
   "display_name": "Python 3",
   "language": "python"
  },
  "language_info": {
   "codemirror_mode": {
    "name": "ipython",
    "version": 3
   },
   "file_extension": ".py",
   "mimetype": "text/x-python",
   "name": "python",
   "nbconvert_exporter": "python",
   "pygments_lexer": "ipython3",
   "version": "3.9.4"
  },
  "nbTranslate": {
   "displayLangs": [
    "*"
   ],
   "hotkey": "alt-t",
   "langInMainMenu": true,
   "sourceLang": "en",
   "targetLang": "fr",
   "useGoogleTranslate": true
  },
  "metadata": {
   "interpreter": {
    "hash": "e60581d2f03fa91c8eb09eee52ec44f835d9a67219463667f00f8c3f149706a0"
   }
  }
 },
 "nbformat": 4,
 "nbformat_minor": 2
}