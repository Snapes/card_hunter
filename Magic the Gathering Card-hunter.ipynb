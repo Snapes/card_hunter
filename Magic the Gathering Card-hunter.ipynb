{
 "cells": [
  {
   "cell_type": "markdown",
   "metadata": {},
   "source": [
    "# Imports"
   ]
  },
  {
   "cell_type": "code",
   "execution_count": 1,
   "metadata": {},
   "outputs": [],
   "source": [
    "import ipywidgets as widgets\n",
    "import numpy as np\n",
    "from IPython.display import display\n",
    "import requests\n",
    "import urllib.request\n",
    "import json\n",
    "import pandas as pd\n",
    "import numpy as np\n",
    "pd.set_option('display.max_columns', None)\n",
    "pd.set_option('display.max_rows', None)\n",
    "from bs4 import BeautifulSoup"
   ]
  },
  {
   "cell_type": "markdown",
   "metadata": {},
   "source": [
    "# Functions"
   ]
  },
  {
   "cell_type": "code",
   "execution_count": 2,
   "metadata": {},
   "outputs": [],
   "source": [
    "def find_cards(button):\n",
    "    table_output.clear_output()\n",
    "    data_dict = {\n",
    "        'Card': [], \n",
    "        'Hobbymaster': [], \n",
    "        'Baydragon': [], \n",
    "        'Spellbound': [], \n",
    "        'Magic at Willis': [], \n",
    "        'Goblin Games': [],\n",
    "        'Iron Knight Gaming': []\n",
    "    }\n",
    "    cards = card_input.value.split('\\n')\n",
    "    total_value = []\n",
    "    not_found = []\n",
    "    for card in cards:\n",
    "        results_output.clear_output()\n",
    "        with results_output:\n",
    "            display(widgets.HTML(f'Searching for <b>{card}<b>'))\n",
    "        data_dict['Card'].append(card)\n",
    "        hm_price = search_hm(card)   \n",
    "        bd_price = search_bd(card)\n",
    "        sb_price = search_sb(card)\n",
    "        mw_price = search_mw(card)\n",
    "        gg_price = search_gg(card)\n",
    "        ik_price = search_ik(card)\n",
    "        price_list = [price for price in (hm_price, bd_price, sb_price, mw_price, gg_price, ik_price) if price > 0]\n",
    "        if len(price_list) > 0:\n",
    "            lowest_price = min(price_list)\n",
    "            total_value.append(lowest_price)\n",
    "        else:\n",
    "            lowest_price = 0\n",
    "            not_found.append(card)        \n",
    "        for shop, price in {\n",
    "            'Hobbymaster': hm_price, \n",
    "            'Baydragon': bd_price, \n",
    "            'Spellbound': sb_price, \n",
    "            'Magic at Willis': mw_price,\n",
    "            'Goblin Games': gg_price,\n",
    "            'Iron Knight Gaming': ik_price\n",
    "        }.items():\n",
    "            data_dict[shop].append(price)\n",
    "    global results_df\n",
    "    results_df = pd.DataFrame(data_dict)\n",
    "    results_output.clear_output()\n",
    "    if len(not_found) > 0:\n",
    "        cards_not_found = '| Could not find: ' + ', '.join(not_found)\n",
    "    else:\n",
    "        cards_not_found = ''\n",
    "    with results_output:\n",
    "        display(widgets.HTML(f\"Total cost: <b>NZ${sum(total_value)}</b> {cards_not_found}\"))\n",
    "    with table_output:\n",
    "        display(results_df.style.apply(highlight_min, axis=1, subset=['Hobbymaster', 'Baydragon', 'Spellbound', 'Magic at Willis', 'Goblin Games', 'Iron Knight Gaming']))\n",
    "        \n",
    "def highlight_min(data, color='green'):\n",
    "    '''\n",
    "    highlight the maximum in a Series or DataFrame\n",
    "    '''\n",
    "    attr = 'background-color: {}'.format(color)\n",
    "    if data.ndim == 1:  # Series from .apply(axis=0) or axis=1\n",
    "        is_min = data == data.min()\n",
    "        return [attr if v else '' for v in is_min]\n",
    "    else:  # from .apply(axis=None)\n",
    "        is_min = data == data.min().min()\n",
    "        return pd.DataFrame(np.where(is_min, attr, ''),\n",
    "                            index=data.index, columns=data.columns)\n",
    "\n",
    "\n",
    "\n",
    "def search_hm(card_name):\n",
    "    hm_api = 'https://hobbymaster.co.nz/cards/get-cards?foil=0&lang=&game=1&_search=true&sidx=set&sord=desc&name='\n",
    "    url = hm_api + card_name\n",
    "    response = requests.get(url)\n",
    "    data = response.json()\n",
    "    price_list = []\n",
    "    if 'rows' in data:\n",
    "        for item in data['rows']:\n",
    "            if card_name.lower() in item['cell'][0].lower():\n",
    "                if item['cell'][12] == 0:\n",
    "                    continue\n",
    "                else:\n",
    "                    price = item['cell'][10]\n",
    "                    price = float(price.replace('$', '').replace('!', ''))\n",
    "                    price_list.append(price)\n",
    "        if len(price_list) == 0:\n",
    "            price = np.nan\n",
    "        else:\n",
    "            price = min(price_list)\n",
    "    else:\n",
    "        price = np.nan\n",
    "    return price\n",
    "\n",
    "def search_bd(card_name):\n",
    "    bd_api = 'https://www.baydragon.co.nz/search/category/01?searchType=single&searchString='\n",
    "    url = bd_api + card_name\n",
    "    html_content = requests.get(url).text\n",
    "#     soup = BeautifulSoup(html_content, \"lxml\")\n",
    "    soup = BeautifulSoup(html_content)\n",
    "    div = soup.find('div', attrs={'class': 'tcgSingles'})\n",
    "    table = div.find('table')\n",
    "    tds = table.find_all('td')\n",
    "    n = 0\n",
    "    price_list = []\n",
    "    for td in tds:\n",
    "        n += 1\n",
    "        if n > len(tds):\n",
    "            break\n",
    "        if 'NZ$' in td.text:\n",
    "            if card_name in tds[n-6].text:\n",
    "                if int(tds[n].text) > 0:\n",
    "                    price = float(td.text.replace('NZ$', ''))\n",
    "                    price_list.append(price)\n",
    "    if len(price_list) == 0:\n",
    "        price = np.nan\n",
    "    else:\n",
    "        price = min(price_list)\n",
    "    return price\n",
    "\n",
    "def search_gg(card_name):\n",
    "    html_content = requests.get(f'https://goblingames.nz/search?q={card_name}').text\n",
    "    soup = BeautifulSoup(html_content)\n",
    "    products = soup.find_all('div', attrs={'class': 'productCard__lower'})\n",
    "    price_list = []\n",
    "    for product in products:\n",
    "        p_list = product.find_all('ul')\n",
    "        for item in p_list:\n",
    "            instock = item.find_all('li')\n",
    "            if len(instock):\n",
    "                for i in instock:\n",
    "                    title = i.attrs['data-producttitle']\n",
    "                    price = int(i.attrs['data-price']) / 100\n",
    "                if card_name.lower() in title.lower():\n",
    "                    price_list.append(price)\n",
    "    if len(price_list) == 0:\n",
    "        price = np.nan\n",
    "    else:\n",
    "        price = min(price_list)\n",
    "    return price\n",
    "\n",
    "def search_shopify(url, card_name):\n",
    "    html_content = requests.get(url).text\n",
    "#     soup = BeautifulSoup(html_content, \"lxml\")\n",
    "    soup = BeautifulSoup(html_content)\n",
    "    products = soup.find_all('div', attrs={'class': 'product Norm'})\n",
    "    price_list = []\n",
    "    for product in products:\n",
    "        title = product.find('p', attrs='productTitle').text.replace('\\n', ' ').strip()\n",
    "        price = product.find('p', attrs='productPrice').text.replace('\\n', ' ').strip()\n",
    "        if card_name.lower() in title.lower():\n",
    "            if price == 'Varies':\n",
    "                prices = product.parent.find('div', attrs={'class': 'buyWrapper'}).find_all('p')\n",
    "                for p in prices:\n",
    "                    try:\n",
    "                        price = float(p.text.split('$')[1])\n",
    "                    except:\n",
    "                        continue\n",
    "                    price_list.append(price)\n",
    "            elif '$' in price:\n",
    "                try:\n",
    "                    price = float(price.replace('$', ''))\n",
    "                except:\n",
    "                    continue\n",
    "                price_list.append(price)\n",
    "            else:\n",
    "                if price != 'Sold Out':\n",
    "                    price_list.append(price)\n",
    "    if len(price_list) == 0:\n",
    "        price = np.nan\n",
    "    else:\n",
    "        price = min(price_list)\n",
    "\n",
    "    return price\n",
    "\n",
    "def search_sb(card_name):\n",
    "    price = search_shopify(f'https://spellboundgames.co.nz/search?q={card_name}', card_name)\n",
    "    return price\n",
    "    \n",
    "def search_mw(card_name):\n",
    "    price = search_shopify(f'https://magicatwillis.co.nz/search?q={card_name}', card_name)\n",
    "    return price\n",
    "\n",
    "def search_ik(card_name):\n",
    "    price = search_shopify(f'https://ironknightgaming.co.nz/search?q={card_name}', card_name)\n",
    "    return price"
   ]
  },
  {
   "cell_type": "markdown",
   "metadata": {},
   "source": [
    "# User Interface"
   ]
  },
  {
   "cell_type": "code",
   "execution_count": 3,
   "metadata": {
    "scrolled": false
   },
   "outputs": [
    {
     "output_type": "display_data",
     "data": {
      "text/plain": "Textarea(value='', placeholder='Enter a cards on new lines', rows=5)",
      "application/vnd.jupyter.widget-view+json": {
       "version_major": 2,
       "version_minor": 0,
       "model_id": "7afe2bc67fbd4fc581591634e38df68f"
      }
     },
     "metadata": {}
    },
    {
     "output_type": "display_data",
     "data": {
      "text/plain": "Button(description='Find prices', style=ButtonStyle())",
      "application/vnd.jupyter.widget-view+json": {
       "version_major": 2,
       "version_minor": 0,
       "model_id": "b1661124044d4c12b94f5dc901f0636b"
      }
     },
     "metadata": {}
    },
    {
     "output_type": "display_data",
     "data": {
      "text/plain": "Output()",
      "application/vnd.jupyter.widget-view+json": {
       "version_major": 2,
       "version_minor": 0,
       "model_id": "6ccd3cef03734068a202f169a0ce7e46"
      }
     },
     "metadata": {}
    },
    {
     "output_type": "display_data",
     "data": {
      "text/plain": "Output()",
      "application/vnd.jupyter.widget-view+json": {
       "version_major": 2,
       "version_minor": 0,
       "model_id": "a7ff413f89634ff58cfaeec0089bdbac"
      }
     },
     "metadata": {}
    }
   ],
   "source": [
    "card_input = widgets.Textarea(placeholder='Enter a cards on new lines', rows=5)\n",
    "go_button = widgets.Button(description='Find prices', button_style='')\n",
    "results_output = widgets.Output()\n",
    "table_output = widgets.Output()\n",
    "display(card_input, go_button, results_output, table_output)\n",
    "go_button.on_click(find_cards)"
   ]
  },
  {
   "cell_type": "code",
   "execution_count": 5,
   "metadata": {},
   "outputs": [
    {
     "output_type": "display_data",
     "data": {
      "text/plain": "Textarea(value='', placeholder='Enter a cards on new lines', rows=5)",
      "application/vnd.jupyter.widget-view+json": {
       "version_major": 2,
       "version_minor": 0,
       "model_id": "9ee06c193be94db1a0c441a13a0bc0ad"
      }
     },
     "metadata": {}
    },
    {
     "output_type": "display_data",
     "data": {
      "text/plain": "Button(description='Find prices', style=ButtonStyle())",
      "application/vnd.jupyter.widget-view+json": {
       "version_major": 2,
       "version_minor": 0,
       "model_id": "4dc14d49d5ef46dfaeb3cf5fc49a0790"
      }
     },
     "metadata": {}
    },
    {
     "output_type": "display_data",
     "data": {
      "text/plain": "Output()",
      "application/vnd.jupyter.widget-view+json": {
       "version_major": 2,
       "version_minor": 0,
       "model_id": "54205209adf049309e191cfb467aabf8"
      }
     },
     "metadata": {}
    },
    {
     "output_type": "display_data",
     "data": {
      "text/plain": "Output()",
      "application/vnd.jupyter.widget-view+json": {
       "version_major": 2,
       "version_minor": 0,
       "model_id": "024e24e3791345419db1a584a2f23525"
      }
     },
     "metadata": {}
    }
   ],
   "source": [
    "card_input = widgets.Textarea(placeholder='Enter a cards on new lines', rows=5)\n",
    "go_button = widgets.Button(description='Find prices', button_style='')\n",
    "results_output = widgets.Output()\n",
    "table_output = widgets.Output()\n",
    "display(card_input, go_button, results_output, table_output)\n",
    "go_button.on_click(find_cards)"
   ]
  },
  {
   "cell_type": "code",
   "execution_count": 9,
   "metadata": {},
   "outputs": [
    {
     "output_type": "execute_result",
     "data": {
      "text/plain": [
       "                         Card  Hobbymaster  Baydragon  Spellbound  \\\n",
       "0                      Abjure          NaN        NaN         NaN   \n",
       "1              Act of Treason          0.2       0.20         0.4   \n",
       "2               Arcane Signet          6.1       4.65         7.2   \n",
       "3              Ashnod's Altar         13.6        NaN         NaN   \n",
       "4      Bastion of Remembrance          NaN        NaN         NaN   \n",
       "5                Blood Funnel          1.4        NaN         1.5   \n",
       "6             Blood for Bones          NaN        NaN         NaN   \n",
       "7           Bloodshot Cyclops          0.7        NaN         NaN   \n",
       "8           Bloodsoaked Altar          0.5       0.38         0.8   \n",
       "9              Breath of Fury          NaN        NaN         NaN   \n",
       "10             Burnt Offering          NaN        NaN         NaN   \n",
       "11              Butcher Ghoul          NaN        NaN         NaN   \n",
       "12           Captivating Crew          NaN       0.54         1.5   \n",
       "13             Cerulean Drake          NaN       0.38         0.8   \n",
       "14        Claim the Firstborn          NaN       0.57         0.8   \n",
       "15      Cytoplast Manipulator          5.5        NaN         6.9   \n",
       "16          Daring Apprentice          0.7        NaN         1.5   \n",
       "17         Death Pit Offering          0.7        NaN         1.5   \n",
       "18             Deepglow Skate          3.2       3.97         3.8   \n",
       "19      Demonlord of Ashmouth          0.9        NaN         1.5   \n",
       "20          Demonmail Hauberk          0.5        NaN         0.8   \n",
       "21         Dreamshaper Shaman          0.5       0.38         0.8   \n",
       "22  Eliminate the Competition          1.0       0.64         1.5   \n",
       "23            Evernight Shade          0.5       0.36         NaN   \n",
       "24                     Fervor          0.5       0.36         0.8   \n",
       "25    Flayer of the Hatebound          1.0       0.42         1.5   \n",
       "26                      Fling          0.2       0.23         0.4   \n",
       "27             Frenzied Fugue          NaN       0.48         NaN   \n",
       "28       Geralf's Mindcrusher          1.0        NaN         1.5   \n",
       "29             Grave Betrayal          4.1        NaN         NaN   \n",
       "30           Harness by Force          1.0        NaN         1.5   \n",
       "31            Hazoret's Favor          0.7       0.71         1.5   \n",
       "32           Hellion Eruption          1.0       0.69         1.5   \n",
       "33         Helm of Possession          NaN        NaN         NaN   \n",
       "34       Hound of Griselbrand          1.0        NaN         1.5   \n",
       "35                Junkyo Bell          0.7        NaN         NaN   \n",
       "36            Keldon Twilight          0.9        NaN         1.5   \n",
       "37          Kels, Fight Fixer          NaN       3.55         3.4   \n",
       "38          Kheru Bloodsucker          0.5       0.39         0.8   \n",
       "39   Marchesa, the Black Rose          7.8        NaN         7.5   \n",
       "40             Mark of Mutiny          0.7       0.22         0.8   \n",
       "41               Master Thief          0.7        NaN         0.8   \n",
       "42          Might Makes Right          NaN       0.33         NaN   \n",
       "43           Morbid Curiosity          0.5       0.41         0.8   \n",
       "44           Murderous Redcap          0.6       3.08         NaN   \n",
       "45         Mutual Destruction          0.2       0.23         0.4   \n",
       "46          Nearheath Stalker          0.2        NaN         NaN   \n",
       "47          Obelisk of Grixis          0.3       0.38         NaN   \n",
       "48                     Oculus          0.2        NaN         0.4   \n",
       "49       Opportunistic Dragon          1.0       0.50         1.5   \n",
       "50   Priest of Forgotten Gods          NaN        NaN         NaN   \n",
       "51           Puppeteer Clique          NaN        NaN         7.3   \n",
       "52              Putrid Goblin          NaN       0.25         NaN   \n",
       "53              Rakdos Signet          2.6        NaN         NaN   \n",
       "54               River Kelpie         23.6       0.53         1.5   \n",
       "55         Ruthless Deathfang          NaN        NaN         NaN   \n",
       "56            Sailor of Means          0.2       0.21         0.4   \n",
       "57           Sakashima's Will          NaN       0.74         1.5   \n",
       "58           Sanguine Praetor          0.7        NaN         1.5   \n",
       "59           Siren Stormtamer          1.0       0.48         NaN   \n",
       "60           Smelt-Ward Ignus          0.5       0.42         0.8   \n",
       "61              Spark Harvest          0.2       0.19         0.4   \n",
       "62        Stronghold Assassin          1.3        NaN         NaN   \n",
       "63             The Akroan War          1.0        NaN         1.5   \n",
       "64                The Ozolith         21.0        NaN        17.0   \n",
       "65               Thunderblust          1.0       0.80         1.5   \n",
       "66             Vampiric Rites          0.8        NaN         NaN   \n",
       "67         Vindictive Vampire          0.9       0.64         NaN   \n",
       "68         Zealous Conscripts          2.9       2.26         NaN   \n",
       "\n",
       "    Magic at Willis  Goblin Games  Iron Knight Gaming  \n",
       "0               NaN           NaN                0.50  \n",
       "1               NaN          0.30                0.30  \n",
       "2               NaN         41.50                 NaN  \n",
       "3               NaN           NaN                 NaN  \n",
       "4               NaN           NaN                 NaN  \n",
       "5               1.1          5.50                 NaN  \n",
       "6               NaN           NaN                 NaN  \n",
       "7               NaN           NaN                 NaN  \n",
       "8               NaN          0.50                 NaN  \n",
       "9               NaN          3.00                 NaN  \n",
       "10              NaN          1.00                 NaN  \n",
       "11              NaN           NaN                 NaN  \n",
       "12              0.7          1.00                0.90  \n",
       "13              NaN          1.00                 NaN  \n",
       "14              NaN           NaN                 NaN  \n",
       "15              5.4          5.50                 NaN  \n",
       "16              NaN          0.50                0.90  \n",
       "17              0.5           NaN                 NaN  \n",
       "18              3.3          3.50                 NaN  \n",
       "19              NaN          0.90                 NaN  \n",
       "20              NaN           NaN                0.23  \n",
       "21              NaN          0.50                 NaN  \n",
       "22              0.5          0.90                0.90  \n",
       "23              NaN           NaN                 NaN  \n",
       "24              NaN          1.00                4.70  \n",
       "25              0.6          0.90                0.90  \n",
       "26              NaN          0.30                0.23  \n",
       "27              NaN          1.00                 NaN  \n",
       "28              NaN           NaN                 NaN  \n",
       "29              NaN           NaN                 NaN  \n",
       "30              0.5          0.70                 NaN  \n",
       "31              0.5          1.00                0.90  \n",
       "32              NaN          1.00                0.90  \n",
       "33              NaN           NaN                 NaN  \n",
       "34              0.6          1.00                0.90  \n",
       "35              0.4          0.50                 NaN  \n",
       "36              NaN          0.70                 NaN  \n",
       "37              3.3           NaN                 NaN  \n",
       "38              NaN           NaN                 NaN  \n",
       "39              7.3           NaN                 NaN  \n",
       "40              NaN           NaN                0.23  \n",
       "41              NaN          0.50                0.25  \n",
       "42              NaN          0.50                 NaN  \n",
       "43              NaN          0.50                 NaN  \n",
       "44              NaN          0.50                0.60  \n",
       "45              NaN          0.30                 NaN  \n",
       "46              NaN          0.30                 NaN  \n",
       "47              NaN          0.15                 NaN  \n",
       "48              NaN          0.30                0.23  \n",
       "49              0.6          1.00                 NaN  \n",
       "50              5.8           NaN                 NaN  \n",
       "51              9.0           NaN                6.30  \n",
       "52              NaN          0.30                 NaN  \n",
       "53              1.6           NaN                1.70  \n",
       "54              0.6          0.30                0.90  \n",
       "55              NaN           NaN                 NaN  \n",
       "56              NaN          0.30                 NaN  \n",
       "57              0.7          4.50                 NaN  \n",
       "58              NaN           NaN                 NaN  \n",
       "59              NaN          1.00                 NaN  \n",
       "60              NaN          0.50                 NaN  \n",
       "61              NaN          0.30                 NaN  \n",
       "62              1.0           NaN                 NaN  \n",
       "63              0.5          1.00                 NaN  \n",
       "64              NaN           NaN                 NaN  \n",
       "65              0.7           NaN                1.00  \n",
       "66              NaN           NaN                0.60  \n",
       "67              NaN           NaN                0.70  \n",
       "68              1.9          2.50                1.90  "
      ],
      "text/html": "<div>\n<style scoped>\n    .dataframe tbody tr th:only-of-type {\n        vertical-align: middle;\n    }\n\n    .dataframe tbody tr th {\n        vertical-align: top;\n    }\n\n    .dataframe thead th {\n        text-align: right;\n    }\n</style>\n<table border=\"1\" class=\"dataframe\">\n  <thead>\n    <tr style=\"text-align: right;\">\n      <th></th>\n      <th>Card</th>\n      <th>Hobbymaster</th>\n      <th>Baydragon</th>\n      <th>Spellbound</th>\n      <th>Magic at Willis</th>\n      <th>Goblin Games</th>\n      <th>Iron Knight Gaming</th>\n    </tr>\n  </thead>\n  <tbody>\n    <tr>\n      <th>0</th>\n      <td>Abjure</td>\n      <td>NaN</td>\n      <td>NaN</td>\n      <td>NaN</td>\n      <td>NaN</td>\n      <td>NaN</td>\n      <td>0.50</td>\n    </tr>\n    <tr>\n      <th>1</th>\n      <td>Act of Treason</td>\n      <td>0.2</td>\n      <td>0.20</td>\n      <td>0.4</td>\n      <td>NaN</td>\n      <td>0.30</td>\n      <td>0.30</td>\n    </tr>\n    <tr>\n      <th>2</th>\n      <td>Arcane Signet</td>\n      <td>6.1</td>\n      <td>4.65</td>\n      <td>7.2</td>\n      <td>NaN</td>\n      <td>41.50</td>\n      <td>NaN</td>\n    </tr>\n    <tr>\n      <th>3</th>\n      <td>Ashnod's Altar</td>\n      <td>13.6</td>\n      <td>NaN</td>\n      <td>NaN</td>\n      <td>NaN</td>\n      <td>NaN</td>\n      <td>NaN</td>\n    </tr>\n    <tr>\n      <th>4</th>\n      <td>Bastion of Remembrance</td>\n      <td>NaN</td>\n      <td>NaN</td>\n      <td>NaN</td>\n      <td>NaN</td>\n      <td>NaN</td>\n      <td>NaN</td>\n    </tr>\n    <tr>\n      <th>5</th>\n      <td>Blood Funnel</td>\n      <td>1.4</td>\n      <td>NaN</td>\n      <td>1.5</td>\n      <td>1.1</td>\n      <td>5.50</td>\n      <td>NaN</td>\n    </tr>\n    <tr>\n      <th>6</th>\n      <td>Blood for Bones</td>\n      <td>NaN</td>\n      <td>NaN</td>\n      <td>NaN</td>\n      <td>NaN</td>\n      <td>NaN</td>\n      <td>NaN</td>\n    </tr>\n    <tr>\n      <th>7</th>\n      <td>Bloodshot Cyclops</td>\n      <td>0.7</td>\n      <td>NaN</td>\n      <td>NaN</td>\n      <td>NaN</td>\n      <td>NaN</td>\n      <td>NaN</td>\n    </tr>\n    <tr>\n      <th>8</th>\n      <td>Bloodsoaked Altar</td>\n      <td>0.5</td>\n      <td>0.38</td>\n      <td>0.8</td>\n      <td>NaN</td>\n      <td>0.50</td>\n      <td>NaN</td>\n    </tr>\n    <tr>\n      <th>9</th>\n      <td>Breath of Fury</td>\n      <td>NaN</td>\n      <td>NaN</td>\n      <td>NaN</td>\n      <td>NaN</td>\n      <td>3.00</td>\n      <td>NaN</td>\n    </tr>\n    <tr>\n      <th>10</th>\n      <td>Burnt Offering</td>\n      <td>NaN</td>\n      <td>NaN</td>\n      <td>NaN</td>\n      <td>NaN</td>\n      <td>1.00</td>\n      <td>NaN</td>\n    </tr>\n    <tr>\n      <th>11</th>\n      <td>Butcher Ghoul</td>\n      <td>NaN</td>\n      <td>NaN</td>\n      <td>NaN</td>\n      <td>NaN</td>\n      <td>NaN</td>\n      <td>NaN</td>\n    </tr>\n    <tr>\n      <th>12</th>\n      <td>Captivating Crew</td>\n      <td>NaN</td>\n      <td>0.54</td>\n      <td>1.5</td>\n      <td>0.7</td>\n      <td>1.00</td>\n      <td>0.90</td>\n    </tr>\n    <tr>\n      <th>13</th>\n      <td>Cerulean Drake</td>\n      <td>NaN</td>\n      <td>0.38</td>\n      <td>0.8</td>\n      <td>NaN</td>\n      <td>1.00</td>\n      <td>NaN</td>\n    </tr>\n    <tr>\n      <th>14</th>\n      <td>Claim the Firstborn</td>\n      <td>NaN</td>\n      <td>0.57</td>\n      <td>0.8</td>\n      <td>NaN</td>\n      <td>NaN</td>\n      <td>NaN</td>\n    </tr>\n    <tr>\n      <th>15</th>\n      <td>Cytoplast Manipulator</td>\n      <td>5.5</td>\n      <td>NaN</td>\n      <td>6.9</td>\n      <td>5.4</td>\n      <td>5.50</td>\n      <td>NaN</td>\n    </tr>\n    <tr>\n      <th>16</th>\n      <td>Daring Apprentice</td>\n      <td>0.7</td>\n      <td>NaN</td>\n      <td>1.5</td>\n      <td>NaN</td>\n      <td>0.50</td>\n      <td>0.90</td>\n    </tr>\n    <tr>\n      <th>17</th>\n      <td>Death Pit Offering</td>\n      <td>0.7</td>\n      <td>NaN</td>\n      <td>1.5</td>\n      <td>0.5</td>\n      <td>NaN</td>\n      <td>NaN</td>\n    </tr>\n    <tr>\n      <th>18</th>\n      <td>Deepglow Skate</td>\n      <td>3.2</td>\n      <td>3.97</td>\n      <td>3.8</td>\n      <td>3.3</td>\n      <td>3.50</td>\n      <td>NaN</td>\n    </tr>\n    <tr>\n      <th>19</th>\n      <td>Demonlord of Ashmouth</td>\n      <td>0.9</td>\n      <td>NaN</td>\n      <td>1.5</td>\n      <td>NaN</td>\n      <td>0.90</td>\n      <td>NaN</td>\n    </tr>\n    <tr>\n      <th>20</th>\n      <td>Demonmail Hauberk</td>\n      <td>0.5</td>\n      <td>NaN</td>\n      <td>0.8</td>\n      <td>NaN</td>\n      <td>NaN</td>\n      <td>0.23</td>\n    </tr>\n    <tr>\n      <th>21</th>\n      <td>Dreamshaper Shaman</td>\n      <td>0.5</td>\n      <td>0.38</td>\n      <td>0.8</td>\n      <td>NaN</td>\n      <td>0.50</td>\n      <td>NaN</td>\n    </tr>\n    <tr>\n      <th>22</th>\n      <td>Eliminate the Competition</td>\n      <td>1.0</td>\n      <td>0.64</td>\n      <td>1.5</td>\n      <td>0.5</td>\n      <td>0.90</td>\n      <td>0.90</td>\n    </tr>\n    <tr>\n      <th>23</th>\n      <td>Evernight Shade</td>\n      <td>0.5</td>\n      <td>0.36</td>\n      <td>NaN</td>\n      <td>NaN</td>\n      <td>NaN</td>\n      <td>NaN</td>\n    </tr>\n    <tr>\n      <th>24</th>\n      <td>Fervor</td>\n      <td>0.5</td>\n      <td>0.36</td>\n      <td>0.8</td>\n      <td>NaN</td>\n      <td>1.00</td>\n      <td>4.70</td>\n    </tr>\n    <tr>\n      <th>25</th>\n      <td>Flayer of the Hatebound</td>\n      <td>1.0</td>\n      <td>0.42</td>\n      <td>1.5</td>\n      <td>0.6</td>\n      <td>0.90</td>\n      <td>0.90</td>\n    </tr>\n    <tr>\n      <th>26</th>\n      <td>Fling</td>\n      <td>0.2</td>\n      <td>0.23</td>\n      <td>0.4</td>\n      <td>NaN</td>\n      <td>0.30</td>\n      <td>0.23</td>\n    </tr>\n    <tr>\n      <th>27</th>\n      <td>Frenzied Fugue</td>\n      <td>NaN</td>\n      <td>0.48</td>\n      <td>NaN</td>\n      <td>NaN</td>\n      <td>1.00</td>\n      <td>NaN</td>\n    </tr>\n    <tr>\n      <th>28</th>\n      <td>Geralf's Mindcrusher</td>\n      <td>1.0</td>\n      <td>NaN</td>\n      <td>1.5</td>\n      <td>NaN</td>\n      <td>NaN</td>\n      <td>NaN</td>\n    </tr>\n    <tr>\n      <th>29</th>\n      <td>Grave Betrayal</td>\n      <td>4.1</td>\n      <td>NaN</td>\n      <td>NaN</td>\n      <td>NaN</td>\n      <td>NaN</td>\n      <td>NaN</td>\n    </tr>\n    <tr>\n      <th>30</th>\n      <td>Harness by Force</td>\n      <td>1.0</td>\n      <td>NaN</td>\n      <td>1.5</td>\n      <td>0.5</td>\n      <td>0.70</td>\n      <td>NaN</td>\n    </tr>\n    <tr>\n      <th>31</th>\n      <td>Hazoret's Favor</td>\n      <td>0.7</td>\n      <td>0.71</td>\n      <td>1.5</td>\n      <td>0.5</td>\n      <td>1.00</td>\n      <td>0.90</td>\n    </tr>\n    <tr>\n      <th>32</th>\n      <td>Hellion Eruption</td>\n      <td>1.0</td>\n      <td>0.69</td>\n      <td>1.5</td>\n      <td>NaN</td>\n      <td>1.00</td>\n      <td>0.90</td>\n    </tr>\n    <tr>\n      <th>33</th>\n      <td>Helm of Possession</td>\n      <td>NaN</td>\n      <td>NaN</td>\n      <td>NaN</td>\n      <td>NaN</td>\n      <td>NaN</td>\n      <td>NaN</td>\n    </tr>\n    <tr>\n      <th>34</th>\n      <td>Hound of Griselbrand</td>\n      <td>1.0</td>\n      <td>NaN</td>\n      <td>1.5</td>\n      <td>0.6</td>\n      <td>1.00</td>\n      <td>0.90</td>\n    </tr>\n    <tr>\n      <th>35</th>\n      <td>Junkyo Bell</td>\n      <td>0.7</td>\n      <td>NaN</td>\n      <td>NaN</td>\n      <td>0.4</td>\n      <td>0.50</td>\n      <td>NaN</td>\n    </tr>\n    <tr>\n      <th>36</th>\n      <td>Keldon Twilight</td>\n      <td>0.9</td>\n      <td>NaN</td>\n      <td>1.5</td>\n      <td>NaN</td>\n      <td>0.70</td>\n      <td>NaN</td>\n    </tr>\n    <tr>\n      <th>37</th>\n      <td>Kels, Fight Fixer</td>\n      <td>NaN</td>\n      <td>3.55</td>\n      <td>3.4</td>\n      <td>3.3</td>\n      <td>NaN</td>\n      <td>NaN</td>\n    </tr>\n    <tr>\n      <th>38</th>\n      <td>Kheru Bloodsucker</td>\n      <td>0.5</td>\n      <td>0.39</td>\n      <td>0.8</td>\n      <td>NaN</td>\n      <td>NaN</td>\n      <td>NaN</td>\n    </tr>\n    <tr>\n      <th>39</th>\n      <td>Marchesa, the Black Rose</td>\n      <td>7.8</td>\n      <td>NaN</td>\n      <td>7.5</td>\n      <td>7.3</td>\n      <td>NaN</td>\n      <td>NaN</td>\n    </tr>\n    <tr>\n      <th>40</th>\n      <td>Mark of Mutiny</td>\n      <td>0.7</td>\n      <td>0.22</td>\n      <td>0.8</td>\n      <td>NaN</td>\n      <td>NaN</td>\n      <td>0.23</td>\n    </tr>\n    <tr>\n      <th>41</th>\n      <td>Master Thief</td>\n      <td>0.7</td>\n      <td>NaN</td>\n      <td>0.8</td>\n      <td>NaN</td>\n      <td>0.50</td>\n      <td>0.25</td>\n    </tr>\n    <tr>\n      <th>42</th>\n      <td>Might Makes Right</td>\n      <td>NaN</td>\n      <td>0.33</td>\n      <td>NaN</td>\n      <td>NaN</td>\n      <td>0.50</td>\n      <td>NaN</td>\n    </tr>\n    <tr>\n      <th>43</th>\n      <td>Morbid Curiosity</td>\n      <td>0.5</td>\n      <td>0.41</td>\n      <td>0.8</td>\n      <td>NaN</td>\n      <td>0.50</td>\n      <td>NaN</td>\n    </tr>\n    <tr>\n      <th>44</th>\n      <td>Murderous Redcap</td>\n      <td>0.6</td>\n      <td>3.08</td>\n      <td>NaN</td>\n      <td>NaN</td>\n      <td>0.50</td>\n      <td>0.60</td>\n    </tr>\n    <tr>\n      <th>45</th>\n      <td>Mutual Destruction</td>\n      <td>0.2</td>\n      <td>0.23</td>\n      <td>0.4</td>\n      <td>NaN</td>\n      <td>0.30</td>\n      <td>NaN</td>\n    </tr>\n    <tr>\n      <th>46</th>\n      <td>Nearheath Stalker</td>\n      <td>0.2</td>\n      <td>NaN</td>\n      <td>NaN</td>\n      <td>NaN</td>\n      <td>0.30</td>\n      <td>NaN</td>\n    </tr>\n    <tr>\n      <th>47</th>\n      <td>Obelisk of Grixis</td>\n      <td>0.3</td>\n      <td>0.38</td>\n      <td>NaN</td>\n      <td>NaN</td>\n      <td>0.15</td>\n      <td>NaN</td>\n    </tr>\n    <tr>\n      <th>48</th>\n      <td>Oculus</td>\n      <td>0.2</td>\n      <td>NaN</td>\n      <td>0.4</td>\n      <td>NaN</td>\n      <td>0.30</td>\n      <td>0.23</td>\n    </tr>\n    <tr>\n      <th>49</th>\n      <td>Opportunistic Dragon</td>\n      <td>1.0</td>\n      <td>0.50</td>\n      <td>1.5</td>\n      <td>0.6</td>\n      <td>1.00</td>\n      <td>NaN</td>\n    </tr>\n    <tr>\n      <th>50</th>\n      <td>Priest of Forgotten Gods</td>\n      <td>NaN</td>\n      <td>NaN</td>\n      <td>NaN</td>\n      <td>5.8</td>\n      <td>NaN</td>\n      <td>NaN</td>\n    </tr>\n    <tr>\n      <th>51</th>\n      <td>Puppeteer Clique</td>\n      <td>NaN</td>\n      <td>NaN</td>\n      <td>7.3</td>\n      <td>9.0</td>\n      <td>NaN</td>\n      <td>6.30</td>\n    </tr>\n    <tr>\n      <th>52</th>\n      <td>Putrid Goblin</td>\n      <td>NaN</td>\n      <td>0.25</td>\n      <td>NaN</td>\n      <td>NaN</td>\n      <td>0.30</td>\n      <td>NaN</td>\n    </tr>\n    <tr>\n      <th>53</th>\n      <td>Rakdos Signet</td>\n      <td>2.6</td>\n      <td>NaN</td>\n      <td>NaN</td>\n      <td>1.6</td>\n      <td>NaN</td>\n      <td>1.70</td>\n    </tr>\n    <tr>\n      <th>54</th>\n      <td>River Kelpie</td>\n      <td>23.6</td>\n      <td>0.53</td>\n      <td>1.5</td>\n      <td>0.6</td>\n      <td>0.30</td>\n      <td>0.90</td>\n    </tr>\n    <tr>\n      <th>55</th>\n      <td>Ruthless Deathfang</td>\n      <td>NaN</td>\n      <td>NaN</td>\n      <td>NaN</td>\n      <td>NaN</td>\n      <td>NaN</td>\n      <td>NaN</td>\n    </tr>\n    <tr>\n      <th>56</th>\n      <td>Sailor of Means</td>\n      <td>0.2</td>\n      <td>0.21</td>\n      <td>0.4</td>\n      <td>NaN</td>\n      <td>0.30</td>\n      <td>NaN</td>\n    </tr>\n    <tr>\n      <th>57</th>\n      <td>Sakashima's Will</td>\n      <td>NaN</td>\n      <td>0.74</td>\n      <td>1.5</td>\n      <td>0.7</td>\n      <td>4.50</td>\n      <td>NaN</td>\n    </tr>\n    <tr>\n      <th>58</th>\n      <td>Sanguine Praetor</td>\n      <td>0.7</td>\n      <td>NaN</td>\n      <td>1.5</td>\n      <td>NaN</td>\n      <td>NaN</td>\n      <td>NaN</td>\n    </tr>\n    <tr>\n      <th>59</th>\n      <td>Siren Stormtamer</td>\n      <td>1.0</td>\n      <td>0.48</td>\n      <td>NaN</td>\n      <td>NaN</td>\n      <td>1.00</td>\n      <td>NaN</td>\n    </tr>\n    <tr>\n      <th>60</th>\n      <td>Smelt-Ward Ignus</td>\n      <td>0.5</td>\n      <td>0.42</td>\n      <td>0.8</td>\n      <td>NaN</td>\n      <td>0.50</td>\n      <td>NaN</td>\n    </tr>\n    <tr>\n      <th>61</th>\n      <td>Spark Harvest</td>\n      <td>0.2</td>\n      <td>0.19</td>\n      <td>0.4</td>\n      <td>NaN</td>\n      <td>0.30</td>\n      <td>NaN</td>\n    </tr>\n    <tr>\n      <th>62</th>\n      <td>Stronghold Assassin</td>\n      <td>1.3</td>\n      <td>NaN</td>\n      <td>NaN</td>\n      <td>1.0</td>\n      <td>NaN</td>\n      <td>NaN</td>\n    </tr>\n    <tr>\n      <th>63</th>\n      <td>The Akroan War</td>\n      <td>1.0</td>\n      <td>NaN</td>\n      <td>1.5</td>\n      <td>0.5</td>\n      <td>1.00</td>\n      <td>NaN</td>\n    </tr>\n    <tr>\n      <th>64</th>\n      <td>The Ozolith</td>\n      <td>21.0</td>\n      <td>NaN</td>\n      <td>17.0</td>\n      <td>NaN</td>\n      <td>NaN</td>\n      <td>NaN</td>\n    </tr>\n    <tr>\n      <th>65</th>\n      <td>Thunderblust</td>\n      <td>1.0</td>\n      <td>0.80</td>\n      <td>1.5</td>\n      <td>0.7</td>\n      <td>NaN</td>\n      <td>1.00</td>\n    </tr>\n    <tr>\n      <th>66</th>\n      <td>Vampiric Rites</td>\n      <td>0.8</td>\n      <td>NaN</td>\n      <td>NaN</td>\n      <td>NaN</td>\n      <td>NaN</td>\n      <td>0.60</td>\n    </tr>\n    <tr>\n      <th>67</th>\n      <td>Vindictive Vampire</td>\n      <td>0.9</td>\n      <td>0.64</td>\n      <td>NaN</td>\n      <td>NaN</td>\n      <td>NaN</td>\n      <td>0.70</td>\n    </tr>\n    <tr>\n      <th>68</th>\n      <td>Zealous Conscripts</td>\n      <td>2.9</td>\n      <td>2.26</td>\n      <td>NaN</td>\n      <td>1.9</td>\n      <td>2.50</td>\n      <td>1.90</td>\n    </tr>\n  </tbody>\n</table>\n</div>"
     },
     "metadata": {},
     "execution_count": 9
    }
   ],
   "source": [
    "go_button.on_click(find_cards)\n"
   ]
  }
 ],
 "metadata": {
  "kernelspec": {
   "display_name": "Python 3",
   "language": "python",
   "name": "python3"
  },
  "language_info": {
   "codemirror_mode": {
    "name": "ipython",
    "version": 3
   },
   "file_extension": ".py",
   "mimetype": "text/x-python",
   "name": "python",
   "nbconvert_exporter": "python",
   "pygments_lexer": "ipython3",
   "version": "3.9.4"
  },
  "nbTranslate": {
   "displayLangs": [
    "*"
   ],
   "hotkey": "alt-t",
   "langInMainMenu": true,
   "sourceLang": "en",
   "targetLang": "fr",
   "useGoogleTranslate": true
  }
 },
 "nbformat": 4,
 "nbformat_minor": 2
}